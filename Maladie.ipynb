{
 "cells": [
  {
   "cell_type": "code",
   "execution_count": 190,
   "id": "9614c1b8-161b-4b41-9d17-151b03031064",
   "metadata": {},
   "outputs": [],
   "source": [
    "import pandas as pd\n",
    "import numpy as np\n",
    "import matplotlib.pyplot as plt\n",
    "import seaborn as sns"
   ]
  },
  {
   "cell_type": "code",
   "execution_count": 191,
   "id": "e29dbc7d-8181-4aaf-8313-10cdb07c5f6d",
   "metadata": {},
   "outputs": [
    {
     "data": {
      "text/html": [
       "<div>\n",
       "<style scoped>\n",
       "    .dataframe tbody tr th:only-of-type {\n",
       "        vertical-align: middle;\n",
       "    }\n",
       "\n",
       "    .dataframe tbody tr th {\n",
       "        vertical-align: top;\n",
       "    }\n",
       "\n",
       "    .dataframe thead th {\n",
       "        text-align: right;\n",
       "    }\n",
       "</style>\n",
       "<table border=\"1\" class=\"dataframe\">\n",
       "  <thead>\n",
       "    <tr style=\"text-align: right;\">\n",
       "      <th></th>\n",
       "      <th>temperature</th>\n",
       "      <th>pouls</th>\n",
       "      <th>oxygene</th>\n",
       "      <th>glycemie</th>\n",
       "      <th>tension</th>\n",
       "      <th>label</th>\n",
       "    </tr>\n",
       "  </thead>\n",
       "  <tbody>\n",
       "    <tr>\n",
       "      <th>0</th>\n",
       "      <td>39.087106</td>\n",
       "      <td>97.0</td>\n",
       "      <td>93.374152</td>\n",
       "      <td>98.375664</td>\n",
       "      <td>95</td>\n",
       "      <td>1</td>\n",
       "    </tr>\n",
       "    <tr>\n",
       "      <th>1</th>\n",
       "      <td>39.866910</td>\n",
       "      <td>113.0</td>\n",
       "      <td>92.930052</td>\n",
       "      <td>99.497602</td>\n",
       "      <td>105</td>\n",
       "      <td>1</td>\n",
       "    </tr>\n",
       "    <tr>\n",
       "      <th>2</th>\n",
       "      <td>39.288298</td>\n",
       "      <td>99.0</td>\n",
       "      <td>92.628848</td>\n",
       "      <td>117.097201</td>\n",
       "      <td>133</td>\n",
       "      <td>1</td>\n",
       "    </tr>\n",
       "    <tr>\n",
       "      <th>3</th>\n",
       "      <td>37.283112</td>\n",
       "      <td>77.0</td>\n",
       "      <td>99.541285</td>\n",
       "      <td>105.984670</td>\n",
       "      <td>103</td>\n",
       "      <td>0</td>\n",
       "    </tr>\n",
       "  </tbody>\n",
       "</table>\n",
       "</div>"
      ],
      "text/plain": [
       "   temperature  pouls    oxygene    glycemie  tension  label\n",
       "0    39.087106   97.0  93.374152   98.375664       95      1\n",
       "1    39.866910  113.0  92.930052   99.497602      105      1\n",
       "2    39.288298   99.0  92.628848  117.097201      133      1\n",
       "3    37.283112   77.0  99.541285  105.984670      103      0"
      ]
     },
     "execution_count": 191,
     "metadata": {},
     "output_type": "execute_result"
    }
   ],
   "source": [
    "data=pd.read_csv('maladie_observations.csv')\n",
    "data.head(4)"
   ]
  },
  {
   "cell_type": "code",
   "execution_count": 192,
   "id": "97cc4a67-8595-4d7c-bb5c-bafe783fac07",
   "metadata": {},
   "outputs": [
    {
     "data": {
      "text/plain": [
       "Index(['temperature', 'pouls', 'oxygene', 'glycemie', 'tension', 'label'], dtype='object')"
      ]
     },
     "execution_count": 192,
     "metadata": {},
     "output_type": "execute_result"
    }
   ],
   "source": [
    "data.columns"
   ]
  },
  {
   "cell_type": "code",
   "execution_count": null,
   "id": "271e4869-9493-4add-8132-49e7fffa2062",
   "metadata": {},
   "outputs": [],
   "source": []
  },
  {
   "cell_type": "code",
   "execution_count": 193,
   "id": "5a2828f7-b6fd-4ca6-9fde-cad02f22b62f",
   "metadata": {},
   "outputs": [
    {
     "name": "stdout",
     "output_type": "stream",
     "text": [
      "<class 'pandas.core.frame.DataFrame'>\n",
      "RangeIndex: 5725 entries, 0 to 5724\n",
      "Data columns (total 6 columns):\n",
      " #   Column       Non-Null Count  Dtype  \n",
      "---  ------       --------------  -----  \n",
      " 0   temperature  5706 non-null   float64\n",
      " 1   pouls        5702 non-null   float64\n",
      " 2   oxygene      5715 non-null   float64\n",
      " 3   glycemie     5725 non-null   float64\n",
      " 4   tension      5725 non-null   int64  \n",
      " 5   label        5725 non-null   int64  \n",
      "dtypes: float64(4), int64(2)\n",
      "memory usage: 268.5 KB\n"
     ]
    }
   ],
   "source": [
    "data.info()"
   ]
  },
  {
   "cell_type": "code",
   "execution_count": 194,
   "id": "05885cab-cad2-4cd5-98c6-dc27825304c3",
   "metadata": {},
   "outputs": [
    {
     "data": {
      "text/html": [
       "<div>\n",
       "<style scoped>\n",
       "    .dataframe tbody tr th:only-of-type {\n",
       "        vertical-align: middle;\n",
       "    }\n",
       "\n",
       "    .dataframe tbody tr th {\n",
       "        vertical-align: top;\n",
       "    }\n",
       "\n",
       "    .dataframe thead th {\n",
       "        text-align: right;\n",
       "    }\n",
       "</style>\n",
       "<table border=\"1\" class=\"dataframe\">\n",
       "  <thead>\n",
       "    <tr style=\"text-align: right;\">\n",
       "      <th></th>\n",
       "      <th>temperature</th>\n",
       "      <th>pouls</th>\n",
       "      <th>oxygene</th>\n",
       "      <th>glycemie</th>\n",
       "      <th>tension</th>\n",
       "      <th>label</th>\n",
       "    </tr>\n",
       "  </thead>\n",
       "  <tbody>\n",
       "    <tr>\n",
       "      <th>count</th>\n",
       "      <td>5706.000000</td>\n",
       "      <td>5702.000000</td>\n",
       "      <td>5715.000000</td>\n",
       "      <td>5725.000000</td>\n",
       "      <td>5725.000000</td>\n",
       "      <td>5725.000000</td>\n",
       "    </tr>\n",
       "    <tr>\n",
       "      <th>mean</th>\n",
       "      <td>38.518146</td>\n",
       "      <td>88.071773</td>\n",
       "      <td>97.948465</td>\n",
       "      <td>94.679671</td>\n",
       "      <td>114.424629</td>\n",
       "      <td>0.554410</td>\n",
       "    </tr>\n",
       "    <tr>\n",
       "      <th>std</th>\n",
       "      <td>14.472846</td>\n",
       "      <td>30.605817</td>\n",
       "      <td>21.843684</td>\n",
       "      <td>14.388183</td>\n",
       "      <td>14.483579</td>\n",
       "      <td>0.497074</td>\n",
       "    </tr>\n",
       "    <tr>\n",
       "      <th>min</th>\n",
       "      <td>36.000615</td>\n",
       "      <td>50.000000</td>\n",
       "      <td>92.000184</td>\n",
       "      <td>70.013976</td>\n",
       "      <td>90.000000</td>\n",
       "      <td>0.000000</td>\n",
       "    </tr>\n",
       "    <tr>\n",
       "      <th>25%</th>\n",
       "      <td>36.854110</td>\n",
       "      <td>66.000000</td>\n",
       "      <td>94.693446</td>\n",
       "      <td>82.281469</td>\n",
       "      <td>102.000000</td>\n",
       "      <td>0.000000</td>\n",
       "    </tr>\n",
       "    <tr>\n",
       "      <th>50%</th>\n",
       "      <td>38.179327</td>\n",
       "      <td>93.000000</td>\n",
       "      <td>97.386048</td>\n",
       "      <td>94.318157</td>\n",
       "      <td>114.000000</td>\n",
       "      <td>1.000000</td>\n",
       "    </tr>\n",
       "    <tr>\n",
       "      <th>75%</th>\n",
       "      <td>39.089746</td>\n",
       "      <td>106.000000</td>\n",
       "      <td>98.845349</td>\n",
       "      <td>107.141442</td>\n",
       "      <td>127.000000</td>\n",
       "      <td>1.000000</td>\n",
       "    </tr>\n",
       "    <tr>\n",
       "      <th>max</th>\n",
       "      <td>522.520254</td>\n",
       "      <td>591.064218</td>\n",
       "      <td>597.940421</td>\n",
       "      <td>119.984205</td>\n",
       "      <td>139.000000</td>\n",
       "      <td>1.000000</td>\n",
       "    </tr>\n",
       "  </tbody>\n",
       "</table>\n",
       "</div>"
      ],
      "text/plain": [
       "       temperature        pouls      oxygene     glycemie      tension  \\\n",
       "count  5706.000000  5702.000000  5715.000000  5725.000000  5725.000000   \n",
       "mean     38.518146    88.071773    97.948465    94.679671   114.424629   \n",
       "std      14.472846    30.605817    21.843684    14.388183    14.483579   \n",
       "min      36.000615    50.000000    92.000184    70.013976    90.000000   \n",
       "25%      36.854110    66.000000    94.693446    82.281469   102.000000   \n",
       "50%      38.179327    93.000000    97.386048    94.318157   114.000000   \n",
       "75%      39.089746   106.000000    98.845349   107.141442   127.000000   \n",
       "max     522.520254   591.064218   597.940421   119.984205   139.000000   \n",
       "\n",
       "             label  \n",
       "count  5725.000000  \n",
       "mean      0.554410  \n",
       "std       0.497074  \n",
       "min       0.000000  \n",
       "25%       0.000000  \n",
       "50%       1.000000  \n",
       "75%       1.000000  \n",
       "max       1.000000  "
      ]
     },
     "execution_count": 194,
     "metadata": {},
     "output_type": "execute_result"
    }
   ],
   "source": [
    "data.describe()"
   ]
  },
  {
   "cell_type": "code",
   "execution_count": 195,
   "id": "4049919c-e270-411a-acfb-0759eccf7843",
   "metadata": {},
   "outputs": [],
   "source": [
    "# Data cleaning\n",
    "data.dropna(inplace=True)"
   ]
  },
  {
   "cell_type": "code",
   "execution_count": 196,
   "id": "4e514da8-c705-4798-b121-3ba9f1eba2d6",
   "metadata": {},
   "outputs": [
    {
     "name": "stdout",
     "output_type": "stream",
     "text": [
      "<class 'pandas.core.frame.DataFrame'>\n",
      "Index: 5673 entries, 0 to 5724\n",
      "Data columns (total 6 columns):\n",
      " #   Column       Non-Null Count  Dtype  \n",
      "---  ------       --------------  -----  \n",
      " 0   temperature  5673 non-null   float64\n",
      " 1   pouls        5673 non-null   float64\n",
      " 2   oxygene      5673 non-null   float64\n",
      " 3   glycemie     5673 non-null   float64\n",
      " 4   tension      5673 non-null   int64  \n",
      " 5   label        5673 non-null   int64  \n",
      "dtypes: float64(4), int64(2)\n",
      "memory usage: 310.2 KB\n"
     ]
    }
   ],
   "source": [
    "data.info()"
   ]
  },
  {
   "cell_type": "code",
   "execution_count": 197,
   "id": "eafc1e87-eb01-4ff0-9db2-4aad752e68d9",
   "metadata": {},
   "outputs": [
    {
     "data": {
      "text/plain": [
       "0"
      ]
     },
     "execution_count": 197,
     "metadata": {},
     "output_type": "execute_result"
    }
   ],
   "source": [
    "data.duplicated().sum()"
   ]
  },
  {
   "cell_type": "code",
   "execution_count": 198,
   "id": "8aa16f0b-5e8d-4e37-b808-48b901a48604",
   "metadata": {},
   "outputs": [
    {
     "data": {
      "text/html": [
       "<div>\n",
       "<style scoped>\n",
       "    .dataframe tbody tr th:only-of-type {\n",
       "        vertical-align: middle;\n",
       "    }\n",
       "\n",
       "    .dataframe tbody tr th {\n",
       "        vertical-align: top;\n",
       "    }\n",
       "\n",
       "    .dataframe thead th {\n",
       "        text-align: right;\n",
       "    }\n",
       "</style>\n",
       "<table border=\"1\" class=\"dataframe\">\n",
       "  <thead>\n",
       "    <tr style=\"text-align: right;\">\n",
       "      <th></th>\n",
       "      <th>temperature</th>\n",
       "      <th>pouls</th>\n",
       "      <th>oxygene</th>\n",
       "      <th>glycemie</th>\n",
       "      <th>tension</th>\n",
       "      <th>label</th>\n",
       "    </tr>\n",
       "  </thead>\n",
       "  <tbody>\n",
       "    <tr>\n",
       "      <th>temperature</th>\n",
       "      <td>1.000000</td>\n",
       "      <td>0.044620</td>\n",
       "      <td>-0.007170</td>\n",
       "      <td>-0.021616</td>\n",
       "      <td>-0.002652</td>\n",
       "      <td>0.068148</td>\n",
       "    </tr>\n",
       "    <tr>\n",
       "      <th>pouls</th>\n",
       "      <td>0.044620</td>\n",
       "      <td>1.000000</td>\n",
       "      <td>-0.061519</td>\n",
       "      <td>-0.006536</td>\n",
       "      <td>0.017632</td>\n",
       "      <td>0.646595</td>\n",
       "    </tr>\n",
       "    <tr>\n",
       "      <th>oxygene</th>\n",
       "      <td>-0.007170</td>\n",
       "      <td>-0.061519</td>\n",
       "      <td>1.000000</td>\n",
       "      <td>-0.007085</td>\n",
       "      <td>0.024389</td>\n",
       "      <td>-0.094705</td>\n",
       "    </tr>\n",
       "    <tr>\n",
       "      <th>glycemie</th>\n",
       "      <td>-0.021616</td>\n",
       "      <td>-0.006536</td>\n",
       "      <td>-0.007085</td>\n",
       "      <td>1.000000</td>\n",
       "      <td>-0.019901</td>\n",
       "      <td>-0.009756</td>\n",
       "    </tr>\n",
       "    <tr>\n",
       "      <th>tension</th>\n",
       "      <td>-0.002652</td>\n",
       "      <td>0.017632</td>\n",
       "      <td>0.024389</td>\n",
       "      <td>-0.019901</td>\n",
       "      <td>1.000000</td>\n",
       "      <td>0.019558</td>\n",
       "    </tr>\n",
       "    <tr>\n",
       "      <th>label</th>\n",
       "      <td>0.068148</td>\n",
       "      <td>0.646595</td>\n",
       "      <td>-0.094705</td>\n",
       "      <td>-0.009756</td>\n",
       "      <td>0.019558</td>\n",
       "      <td>1.000000</td>\n",
       "    </tr>\n",
       "  </tbody>\n",
       "</table>\n",
       "</div>"
      ],
      "text/plain": [
       "             temperature     pouls   oxygene  glycemie   tension     label\n",
       "temperature     1.000000  0.044620 -0.007170 -0.021616 -0.002652  0.068148\n",
       "pouls           0.044620  1.000000 -0.061519 -0.006536  0.017632  0.646595\n",
       "oxygene        -0.007170 -0.061519  1.000000 -0.007085  0.024389 -0.094705\n",
       "glycemie       -0.021616 -0.006536 -0.007085  1.000000 -0.019901 -0.009756\n",
       "tension        -0.002652  0.017632  0.024389 -0.019901  1.000000  0.019558\n",
       "label           0.068148  0.646595 -0.094705 -0.009756  0.019558  1.000000"
      ]
     },
     "execution_count": 198,
     "metadata": {},
     "output_type": "execute_result"
    }
   ],
   "source": [
    "data.corr()"
   ]
  },
  {
   "cell_type": "code",
   "execution_count": 199,
   "id": "8a179313-f3b9-4a97-a9f4-1c96d5bc34cf",
   "metadata": {},
   "outputs": [
    {
     "data": {
      "text/plain": [
       "<Axes: >"
      ]
     },
     "execution_count": 199,
     "metadata": {},
     "output_type": "execute_result"
    },
    {
     "data": {
      "image/png": "[encoded data removed]",
      "text/plain": [
       "<Figure size 640x480 with 2 Axes>"
      ]
     },
     "metadata": {},
     "output_type": "display_data"
    }
   ],
   "source": [
    "sns.heatmap(data.corr())"
   ]
  },
  {
   "cell_type": "code",
   "execution_count": 200,
   "id": "62831673-4875-4779-a554-0a092691536d",
   "metadata": {},
   "outputs": [
    {
     "data": {
      "text/plain": [
       "Text(0.5, 1.0, 'Pouls mean as function of label')"
      ]
     },
     "execution_count": 200,
     "metadata": {},
     "output_type": "execute_result"
    },
    {
     "data": {
      "image/png": "[encoded data removed]",
      "text/plain": [
       "<Figure size 640x480 with 1 Axes>"
      ]
     },
     "metadata": {},
     "output_type": "display_data"
    }
   ],
   "source": [
    "sns.barplot(data.groupby('label')['pouls'].mean(),color='m')\n",
    "plt.title('Pouls mean as function of label')"
   ]
  },
  {
   "cell_type": "code",
   "execution_count": 201,
   "id": "a1acc57f-7e7d-4df6-a9ae-037362feb216",
   "metadata": {},
   "outputs": [
    {
     "data": {
      "text/plain": [
       "Text(0.5, 1.0, 'Temperature mean as function of label')"
      ]
     },
     "execution_count": 201,
     "metadata": {},
     "output_type": "execute_result"
    },
    {
     "data": {
      "image/png": "[encoded data removed]",
      "text/plain": [
       "<Figure size 640x480 with 1 Axes>"
      ]
     },
     "metadata": {},
     "output_type": "display_data"
    }
   ],
   "source": [
    "sns.barplot(data.groupby('label')['temperature'].mean(), color='g')\n",
    "plt.title('Temperature mean as function of label')"
   ]
  },
  {
   "cell_type": "code",
   "execution_count": 202,
   "id": "de68d0ce-e495-490b-af24-44e20666ee0a",
   "metadata": {},
   "outputs": [
    {
     "data": {
      "text/plain": [
       "<seaborn.axisgrid.FacetGrid at 0x1b3b1101940>"
      ]
     },
     "execution_count": 202,
     "metadata": {},
     "output_type": "execute_result"
    },
    {
     "data": {
      "image/png": "[encoded data removed]",
      "text/plain": [
       "<Figure size 500x500 with 1 Axes>"
      ]
     },
     "metadata": {},
     "output_type": "display_data"
    }
   ],
   "source": [
    "sns.lmplot(x='label',y='glycemie',data=data)"
   ]
  },
  {
   "cell_type": "code",
   "execution_count": 203,
   "id": "a2b808c4-862f-49f9-8e6f-7ed6c7be4bef",
   "metadata": {},
   "outputs": [],
   "source": [
    "X=data['label']\n",
    "Y=data[['temperature', 'pouls', 'oxygene', 'glycemie', 'tension']]"
   ]
  },
  {
   "cell_type": "code",
   "execution_count": 204,
   "id": "54ac8506-d4d4-4da0-ac1b-c711952de592",
   "metadata": {},
   "outputs": [],
   "source": [
    "from sklearn.model_selection import train_test_split"
   ]
  },
  {
   "cell_type": "code",
   "execution_count": 216,
   "id": "66d04a13-544a-4ada-9975-a8163a324ff0",
   "metadata": {},
   "outputs": [],
   "source": [
    "x_train,x_test,y_train,y_test=train_test_split(X,Y,test_size=0.2)"
   ]
  },
  {
   "cell_type": "code",
   "execution_count": 218,
   "id": "fe4ed372-1c2b-4787-aefb-c79979285f47",
   "metadata": {},
   "outputs": [
    {
     "data": {
      "text/plain": [
       "(4538,)"
      ]
     },
     "execution_count": 218,
     "metadata": {},
     "output_type": "execute_result"
    }
   ],
   "source": [
    "x_train.shape"
   ]
  },
  {
   "cell_type": "code",
   "execution_count": 220,
   "id": "cc1cd983-99b8-4362-a664-3eb000aa01a1",
   "metadata": {},
   "outputs": [
    {
     "data": {
      "text/plain": [
       "(4538, 5)"
      ]
     },
     "execution_count": 220,
     "metadata": {},
     "output_type": "execute_result"
    }
   ],
   "source": [
    "y_train.shape"
   ]
  },
  {
   "cell_type": "code",
   "execution_count": 272,
   "id": "47b1e8aa-fe67-4653-b546-fd8054c064a6",
   "metadata": {},
   "outputs": [],
   "source": [
    "\n",
    "from sklearn.linear_model import LogisticRegression\n",
    "from sklearn.svm import SVC\n",
    "from sklearn.ensemble import RandomForestClassifier,GradientBoostingClassifier\n",
    "from sklearn.tree import DecisionTreeClassifier\n",
    "\n",
    "models={'LogisticRegression':LogisticRegression(),\n",
    "'SVC':SVC(),\n",
    "'RandomForestClassifier':RandomForestClassifier(),\n",
    "'DecisionTreeClassifier':DecisionTreeClassifier(),\n",
    "'Gradient Boosting': GradientBoostingClassifier()\n",
    "    }"
   ]
  },
  {
   "cell_type": "code",
   "execution_count": 278,
   "id": "4fc042ea-55ed-45df-860e-f246efee3e55",
   "metadata": {},
   "outputs": [
    {
     "name": "stdout",
     "output_type": "stream",
     "text": [
      "After training of the  LogisticRegression , the score is:  99.7355663287792 %\n",
      "After training of the  SVC , the score is:  99.8457470251212 %\n",
      "After training of the  RandomForestClassifier , the score is:  100.0 %\n",
      "After training of the  DecisionTreeClassifier , the score is:  100.0 %\n",
      "After training of the  Gradient Boosting , the score is:  100.0 %\n"
     ]
    }
   ],
   "source": [
    "for model_name,model in models.items():\n",
    "    model.fit(y_train,x_train)\n",
    "  \n",
    "    print('After training of the ',model_name,', the score is: ',(model.score(y_train,x_train))*100,'%')"
   ]
  },
  {
   "cell_type": "code",
   "execution_count": null,
   "id": "8b5e9b68-c51e-4596-b377-62a049311bd0",
   "metadata": {},
   "outputs": [],
   "source": []
  }
 ],
 "metadata": {
  "kernelspec": {
   "display_name": "Python 3 (ipykernel)",
   "language": "python",
   "name": "python3"
  },
  "language_info": {
   "codemirror_mode": {
    "name": "ipython",
    "version": 3
   },
   "file_extension": ".py",
   "mimetype": "text/x-python",
   "name": "python",
   "nbconvert_exporter": "python",
   "pygments_lexer": "ipython3",
   "version": "3.12.4"
  }
 },
 "nbformat": 4,
 "nbformat_minor": 5
}
